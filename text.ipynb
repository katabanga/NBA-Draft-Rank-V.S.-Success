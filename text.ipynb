{
 "cells": [
  {
   "attachments": {},
   "cell_type": "markdown",
   "metadata": {},
   "source": [
    "<h1><center>Does high rank in NBA Draft really mean success?</center><h1>"
   ]
  },
  {
   "attachments": {},
   "cell_type": "markdown",
   "metadata": {},
   "source": [
    "<h3>Introduction<h3>"
   ]
  },
  {
   "attachments": {},
   "cell_type": "markdown",
   "metadata": {},
   "source": [
    "As one of the most successful sports league in the world, National Basketball Association (NBA) has a mature operating model. One of the most important events in the league is **Draft**, since it will bring new and young blood to the team. On the event, teams from the NBA can draft players who are eligible and wish to join the league. These are typically college basketball players, but international players are also eligible to be drafted. Teams and league will consider many factors such as the performance in college, physical body condition, mental index, etc. Then, teams will rank the players and pick their favourite players in the Draft.\n",
    "\n",
    "In general, draft is quite similar to an entrance exam. Every players wants to have a higher rank, because high rank means that there is a higher probablity he can be picked by a favourite team, the team picked him will give him more resource, and he is more likely to be successful in the future.\n",
    "\n",
    "Does high rank in draft always mean success? As that a high score cannot always determine the success of a student, we doubt that the rank of draft cannot either. Thus, we tried to analysis the data to prove it."
   ]
  },
  {
   "attachments": {},
   "cell_type": "markdown",
   "metadata": {},
   "source": [
    "<h3>Dataset<h3>"
   ]
  },
  {
   "attachments": {},
   "cell_type": "markdown",
   "metadata": {},
   "source": [
    "We mainly used data from [Basketball Reference](https://www.basketball-reference.com/) website. We collected the draft data for each players from 2007 to 2020, and the performance for each players in seasons from 2007 to 2022."
   ]
  },
  {
   "attachments": {},
   "cell_type": "markdown",
   "metadata": {},
   "source": [
    "<h3>Analysis<h3>"
   ]
  }
 ],
 "metadata": {
  "language_info": {
   "name": "python"
  },
  "orig_nbformat": 4
 },
 "nbformat": 4,
 "nbformat_minor": 2
}
